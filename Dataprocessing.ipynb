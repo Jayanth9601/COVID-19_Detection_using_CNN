{
 "cells": [
  {
   "cell_type": "code",
   "execution_count": 1,
   "metadata": {},
   "outputs": [],
   "source": [
    "import pandas as pd                                                 # Used to Read data from CSV files\n",
    "import os                                                           # Used to handle files and DIR\n",
    "import shutil                                                       # Used to copy the Images"
   ]
  },
  {
   "cell_type": "code",
   "execution_count": 2,
   "metadata": {},
   "outputs": [],
   "source": [
    "# Create the data for positive samples\n",
    "\n",
    "File_path = r\"C:\\Users\\Dell\\Desktop\\DataSet\\archive (2)\\metadata.csv\"  # Path were Metadata CSV file is saved\n",
    "Images_path = r\"C:\\Users\\Dell\\Desktop\\DataSet\\archive (2)\\images\"      # Path were the Images are saved"
   ]
  },
  {
   "cell_type": "code",
   "execution_count": 3,
   "metadata": {},
   "outputs": [
    {
     "name": "stdout",
     "output_type": "stream",
     "text": [
      "(372, 29)\n"
     ]
    }
   ],
   "source": [
    "df = pd.read_csv(File_path)                                         # Reading the Matadata CSV file for Processing\n",
    "print(df.shape)                                                     # Printing number of Rows and colums in the metadata table"
   ]
  },
  {
   "cell_type": "markdown",
   "metadata": {},
   "source": [
    "WE CAN CHECK THE CSV FILE USING THE COMMAND\n",
    "\"df.head()\""
   ]
  },
  {
   "cell_type": "code",
   "execution_count": 4,
   "metadata": {},
   "outputs": [
    {
     "name": "stdout",
     "output_type": "stream",
     "text": [
      "Covid folder created.\n"
     ]
    }
   ],
   "source": [
    "Target_DIR = r\"C:\\Users\\Dell\\Desktop\\DataSet\\covid\"                 # Path (foleder) were the Images will be saved\n",
    "\n",
    "if not os.path.exists(Target_DIR):                                  # Checking if the file were the images are to be copyed exists\n",
    "    os.mkdir(Target_DIR)                                            # If doesn't exist Creating one\n",
    "    print(\"Covid folder created.\")\n"
   ]
  },
  {
   "cell_type": "code",
   "execution_count": 5,
   "metadata": {},
   "outputs": [
    {
     "name": "stdout",
     "output_type": "stream",
     "text": [
      "Copied 141  to DIR.\n"
     ]
    }
   ],
   "source": [
    "co = 0\n",
    "\n",
    "for (i,row) in df.iterrows():\n",
    "    if row[\"finding\"] == \"COVID-19\" and row[\"view\"] == \"PA\":        # For matadata selecting only covide PA images\n",
    "        filename = row[\"filename\"]                                  # Copying filename\n",
    "        image_path = os.path.join(Images_path,filename)             # Copying the Path were Image is saved\n",
    "        image_copy_path = os.path.join(Target_DIR,filename)         # Making the Path were the Image has to be Copyed\n",
    "        shutil.copy2(image_path,image_copy_path)                    # Copying the Image to the Desired location (path_in_previous_step)\n",
    "        co += 1                                                     # Counting the number of Images being copyed\n",
    "\n",
    "print(\"Copied\",co,\" to DIR.\")"
   ]
  }
 ],
 "metadata": {
  "interpreter": {
   "hash": "83a504f3c87f4fbc848d23a4321e494e67f74adc9559134c952c70d122ba7373"
  },
  "kernelspec": {
   "display_name": "Python 3.7.9 64-bit ('mini5': venv)",
   "name": "python3"
  },
  "language_info": {
   "codemirror_mode": {
    "name": "ipython",
    "version": 3
   },
   "file_extension": ".py",
   "mimetype": "text/x-python",
   "name": "python",
   "nbconvert_exporter": "python",
   "pygments_lexer": "ipython3",
   "version": "3.7.9"
  },
  "orig_nbformat": 4
 },
 "nbformat": 4,
 "nbformat_minor": 2
}
